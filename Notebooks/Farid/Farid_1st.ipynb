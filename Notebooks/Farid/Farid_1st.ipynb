{
  "cells": [
    {
      "cell_type": "code",
      "source": [
        "!git clone https://github.com/FaridRash/Advance-Statistical-Learnin--Semester-3"
      ],
      "metadata": {
        "id": "g_n67soMKYth",
        "outputId": "be56ee3c-7794-49a8-b564-ef3487c6cf82",
        "colab": {
          "base_uri": "https://localhost:8080/"
        }
      },
      "id": "g_n67soMKYth",
      "execution_count": 1,
      "outputs": [
        {
          "output_type": "stream",
          "name": "stdout",
          "text": [
            "Cloning into 'Advance-Statistical-Learnin--Semester-3'...\n",
            "remote: Enumerating objects: 14, done.\u001b[K\n",
            "remote: Counting objects: 100% (14/14), done.\u001b[K\n",
            "remote: Compressing objects: 100% (12/12), done.\u001b[K\n",
            "remote: Total 14 (delta 0), reused 11 (delta 0), pack-reused 0 (from 0)\u001b[K\n",
            "Receiving objects: 100% (14/14), 33.00 MiB | 6.96 MiB/s, done.\n",
            "Updating files: 100% (8/8), done.\n"
          ]
        }
      ]
    },
    {
      "cell_type": "code",
      "execution_count": 4,
      "id": "1aab1c42",
      "metadata": {
        "_cell_guid": "b1076dfc-b9ad-4769-8c92-a6c4dae69d19",
        "_uuid": "8f2839f25d086af736a60e9eeb907d3b93b6e0e5",
        "execution": {
          "iopub.execute_input": "2025-01-07T23:38:18.961817Z",
          "iopub.status.busy": "2025-01-07T23:38:18.961399Z",
          "iopub.status.idle": "2025-01-07T23:38:19.331012Z",
          "shell.execute_reply": "2025-01-07T23:38:19.330161Z"
        },
        "papermill": {
          "duration": 0.374456,
          "end_time": "2025-01-07T23:38:19.332767",
          "exception": false,
          "start_time": "2025-01-07T23:38:18.958311",
          "status": "completed"
        },
        "tags": [],
        "id": "1aab1c42"
      },
      "outputs": [],
      "source": [
        "import numpy as np\n",
        "import pandas as pd"
      ]
    },
    {
      "cell_type": "code",
      "execution_count": 5,
      "id": "8d85ec77",
      "metadata": {
        "papermill": {
          "duration": 0.001324,
          "end_time": "2025-01-07T23:38:19.336440",
          "exception": false,
          "start_time": "2025-01-07T23:38:19.335116",
          "status": "completed"
        },
        "tags": [],
        "id": "8d85ec77"
      },
      "outputs": [],
      "source": [
        "data_path = \"/content/Advance-Statistical-Learnin--Semester-3/Dataset/EURUSD-2000-2020-15m.csv\"\n",
        "df = pd.read_csv(data_path)"
      ]
    },
    {
      "cell_type": "code",
      "source": [],
      "metadata": {
        "id": "JMBWOgcKKvoc"
      },
      "id": "JMBWOgcKKvoc",
      "execution_count": null,
      "outputs": []
    }
  ],
  "metadata": {
    "kaggle": {
      "accelerator": "none",
      "dataSources": [],
      "dockerImageVersionId": 30822,
      "isGpuEnabled": false,
      "isInternetEnabled": true,
      "language": "python",
      "sourceType": "notebook"
    },
    "kernelspec": {
      "display_name": "Python 3",
      "language": "python",
      "name": "python3"
    },
    "language_info": {
      "codemirror_mode": {
        "name": "ipython",
        "version": 3
      },
      "file_extension": ".py",
      "mimetype": "text/x-python",
      "name": "python",
      "nbconvert_exporter": "python",
      "pygments_lexer": "ipython3",
      "version": "3.10.12"
    },
    "papermill": {
      "default_parameters": {},
      "duration": 3.031421,
      "end_time": "2025-01-07T23:38:19.858026",
      "environment_variables": {},
      "exception": null,
      "input_path": "__notebook__.ipynb",
      "output_path": "__notebook__.ipynb",
      "parameters": {},
      "start_time": "2025-01-07T23:38:16.826605",
      "version": "2.6.0"
    },
    "colab": {
      "provenance": []
    }
  },
  "nbformat": 4,
  "nbformat_minor": 5
}