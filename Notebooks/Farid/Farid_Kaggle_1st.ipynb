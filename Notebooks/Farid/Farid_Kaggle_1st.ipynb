{
 "cells": [
  {
   "cell_type": "code",
   "execution_count": 1,
   "id": "796549ba",
   "metadata": {
    "execution": {
     "iopub.execute_input": "2025-01-09T13:31:21.400059Z",
     "iopub.status.busy": "2025-01-09T13:31:21.399701Z",
     "iopub.status.idle": "2025-01-09T13:31:25.216644Z",
     "shell.execute_reply": "2025-01-09T13:31:25.215439Z"
    },
    "id": "g_n67soMKYth",
    "outputId": "be56ee3c-7794-49a8-b564-ef3487c6cf82",
    "papermill": {
     "duration": 3.825482,
     "end_time": "2025-01-09T13:31:25.219329",
     "exception": false,
     "start_time": "2025-01-09T13:31:21.393847",
     "status": "completed"
    },
    "tags": []
   },
   "outputs": [
    {
     "name": "stdout",
     "output_type": "stream",
     "text": [
      "Cloning into 'Advance-Statistical-Learnin--Semester-3'...\r\n",
      "remote: Enumerating objects: 29, done.\u001b[K\r\n",
      "remote: Counting objects: 100% (29/29), done.\u001b[K\r\n",
      "remote: Compressing objects: 100% (22/22), done.\u001b[K\r\n",
      "remote: Total 29 (delta 2), reused 11 (delta 0), pack-reused 0 (from 0)\u001b[K\r\n",
      "Receiving objects: 100% (29/29), 33.01 MiB | 16.34 MiB/s, done.\r\n",
      "Resolving deltas: 100% (2/2), done.\r\n"
     ]
    }
   ],
   "source": [
    "!git clone https://github.com/FaridRash/Advance-Statistical-Learnin--Semester-3"
   ]
  },
  {
   "cell_type": "code",
   "execution_count": 2,
   "id": "5f114ead",
   "metadata": {
    "_cell_guid": "b1076dfc-b9ad-4769-8c92-a6c4dae69d19",
    "_uuid": "8f2839f25d086af736a60e9eeb907d3b93b6e0e5",
    "execution": {
     "iopub.execute_input": "2025-01-09T13:31:25.230169Z",
     "iopub.status.busy": "2025-01-09T13:31:25.229846Z",
     "iopub.status.idle": "2025-01-09T13:31:26.969340Z",
     "shell.execute_reply": "2025-01-09T13:31:26.968365Z"
    },
    "id": "1aab1c42",
    "papermill": {
     "duration": 1.747008,
     "end_time": "2025-01-09T13:31:26.971280",
     "exception": false,
     "start_time": "2025-01-09T13:31:25.224272",
     "status": "completed"
    },
    "tags": []
   },
   "outputs": [],
   "source": [
    "import numpy as np\n",
    "import pandas as pd\n",
    "from sklearn.preprocessing import MinMaxScaler\n",
    "from sklearn.model_selection import train_test_split"
   ]
  },
  {
   "cell_type": "code",
   "execution_count": 3,
   "id": "84a224ee",
   "metadata": {
    "execution": {
     "iopub.execute_input": "2025-01-09T13:31:26.982109Z",
     "iopub.status.busy": "2025-01-09T13:31:26.981643Z",
     "iopub.status.idle": "2025-01-09T13:31:27.644498Z",
     "shell.execute_reply": "2025-01-09T13:31:27.643408Z"
    },
    "id": "8d85ec77",
    "papermill": {
     "duration": 0.670481,
     "end_time": "2025-01-09T13:31:27.646577",
     "exception": false,
     "start_time": "2025-01-09T13:31:26.976096",
     "status": "completed"
    },
    "tags": []
   },
   "outputs": [],
   "source": [
    "data_path = \"/kaggle/working/Advance-Statistical-Learnin--Semester-3/Dataset/EURUSD-2000-2020-15m.csv\"\n",
    "df = pd.read_csv(data_path)"
   ]
  },
  {
   "cell_type": "code",
   "execution_count": 4,
   "id": "ca684aa1",
   "metadata": {
    "execution": {
     "iopub.execute_input": "2025-01-09T13:31:27.663088Z",
     "iopub.status.busy": "2025-01-09T13:31:27.662757Z",
     "iopub.status.idle": "2025-01-09T13:31:27.699759Z",
     "shell.execute_reply": "2025-01-09T13:31:27.698074Z"
    },
    "id": "JMBWOgcKKvoc",
    "papermill": {
     "duration": 0.049664,
     "end_time": "2025-01-09T13:31:27.703612",
     "exception": false,
     "start_time": "2025-01-09T13:31:27.653948",
     "status": "completed"
    },
    "tags": []
   },
   "outputs": [],
   "source": [
    "\n",
    "def EMA(df, base, target, period, alpha=False):\n",
    "    \"\"\"\n",
    "    Function to compute Exponential Moving Average (EMA)\n",
    "    \"\"\"\n",
    "    con = pd.concat([df[:period][base].rolling(window=period).mean(), df[period:][base]])\n",
    "    if (alpha == False):\n",
    "        df[target] = con.ewm(span=period, adjust=False).mean()\n",
    "    else:\n",
    "        df[target] = con.ewm(alpha=alpha, adjust=False).mean()\n",
    "    return df\n",
    "\n",
    "df_ema = EMA(df, 'CLOSE', 'EMA_20', 20)"
   ]
  },
  {
   "cell_type": "code",
   "execution_count": 5,
   "id": "01882367",
   "metadata": {
    "execution": {
     "iopub.execute_input": "2025-01-09T13:31:27.717072Z",
     "iopub.status.busy": "2025-01-09T13:31:27.716737Z",
     "iopub.status.idle": "2025-01-09T13:31:27.741508Z",
     "shell.execute_reply": "2025-01-09T13:31:27.740134Z"
    },
    "id": "3Vl1-9aRMdKj",
    "outputId": "6ebdbb97-8e6b-4fb3-80ca-cc0dce31d92d",
    "papermill": {
     "duration": 0.033308,
     "end_time": "2025-01-09T13:31:27.743818",
     "exception": false,
     "start_time": "2025-01-09T13:31:27.710510",
     "status": "completed"
    },
    "tags": []
   },
   "outputs": [
    {
     "data": {
      "text/html": [
       "<div>\n",
       "<style scoped>\n",
       "    .dataframe tbody tr th:only-of-type {\n",
       "        vertical-align: middle;\n",
       "    }\n",
       "\n",
       "    .dataframe tbody tr th {\n",
       "        vertical-align: top;\n",
       "    }\n",
       "\n",
       "    .dataframe thead th {\n",
       "        text-align: right;\n",
       "    }\n",
       "</style>\n",
       "<table border=\"1\" class=\"dataframe\">\n",
       "  <thead>\n",
       "    <tr style=\"text-align: right;\">\n",
       "      <th></th>\n",
       "      <th>DATE_TIME</th>\n",
       "      <th>HIGH</th>\n",
       "      <th>LOW</th>\n",
       "      <th>OPEN</th>\n",
       "      <th>CLOSE</th>\n",
       "      <th>EMA_20</th>\n",
       "    </tr>\n",
       "  </thead>\n",
       "  <tbody>\n",
       "    <tr>\n",
       "      <th>0</th>\n",
       "      <td>2000.01.03 00:00:00</td>\n",
       "      <td>1.0080</td>\n",
       "      <td>1.0073</td>\n",
       "      <td>1.0073</td>\n",
       "      <td>1.0077</td>\n",
       "      <td>NaN</td>\n",
       "    </tr>\n",
       "    <tr>\n",
       "      <th>1</th>\n",
       "      <td>2000.01.03 00:15:00</td>\n",
       "      <td>1.0087</td>\n",
       "      <td>1.0076</td>\n",
       "      <td>1.0078</td>\n",
       "      <td>1.0086</td>\n",
       "      <td>NaN</td>\n",
       "    </tr>\n",
       "    <tr>\n",
       "      <th>2</th>\n",
       "      <td>2000.01.03 00:30:00</td>\n",
       "      <td>1.0089</td>\n",
       "      <td>1.0079</td>\n",
       "      <td>1.0087</td>\n",
       "      <td>1.0079</td>\n",
       "      <td>NaN</td>\n",
       "    </tr>\n",
       "    <tr>\n",
       "      <th>3</th>\n",
       "      <td>2000.01.03 00:45:00</td>\n",
       "      <td>1.0132</td>\n",
       "      <td>1.0078</td>\n",
       "      <td>1.0078</td>\n",
       "      <td>1.0128</td>\n",
       "      <td>NaN</td>\n",
       "    </tr>\n",
       "    <tr>\n",
       "      <th>4</th>\n",
       "      <td>2000.01.03 01:00:00</td>\n",
       "      <td>1.0133</td>\n",
       "      <td>1.0120</td>\n",
       "      <td>1.0129</td>\n",
       "      <td>1.0122</td>\n",
       "      <td>NaN</td>\n",
       "    </tr>\n",
       "  </tbody>\n",
       "</table>\n",
       "</div>"
      ],
      "text/plain": [
       "             DATE_TIME    HIGH     LOW    OPEN   CLOSE  EMA_20\n",
       "0  2000.01.03 00:00:00  1.0080  1.0073  1.0073  1.0077     NaN\n",
       "1  2000.01.03 00:15:00  1.0087  1.0076  1.0078  1.0086     NaN\n",
       "2  2000.01.03 00:30:00  1.0089  1.0079  1.0087  1.0079     NaN\n",
       "3  2000.01.03 00:45:00  1.0132  1.0078  1.0078  1.0128     NaN\n",
       "4  2000.01.03 01:00:00  1.0133  1.0120  1.0129  1.0122     NaN"
      ]
     },
     "execution_count": 5,
     "metadata": {},
     "output_type": "execute_result"
    }
   ],
   "source": [
    "df_ema.head()"
   ]
  },
  {
   "cell_type": "markdown",
   "id": "5a7cfa07",
   "metadata": {
    "papermill": {
     "duration": 0.007797,
     "end_time": "2025-01-09T13:31:27.759461",
     "exception": false,
     "start_time": "2025-01-09T13:31:27.751664",
     "status": "completed"
    },
    "tags": []
   },
   "source": [
    "#Packing"
   ]
  },
  {
   "cell_type": "code",
   "execution_count": 6,
   "id": "f98fb4f9",
   "metadata": {
    "execution": {
     "iopub.execute_input": "2025-01-09T13:31:27.776404Z",
     "iopub.status.busy": "2025-01-09T13:31:27.776014Z",
     "iopub.status.idle": "2025-01-09T13:31:27.780992Z",
     "shell.execute_reply": "2025-01-09T13:31:27.780076Z"
    },
    "id": "xiqFtiQxMebF",
    "papermill": {
     "duration": 0.014624,
     "end_time": "2025-01-09T13:31:27.782561",
     "exception": false,
     "start_time": "2025-01-09T13:31:27.767937",
     "status": "completed"
    },
    "tags": []
   },
   "outputs": [],
   "source": [
    "def create_packs(df, pack_size):\n",
    "\n",
    "    numerical_data = df[['HIGH', 'LOW', 'OPEN', 'CLOSE', 'EMA_20']].values\n",
    "    \n",
    "    num_packs = len(numerical_data) - pack_size + 1\n",
    "    \n",
    "    packs = np.array([numerical_data[i:i + pack_size] for i in range(num_packs)])\n",
    "    \n",
    "    return packs"
   ]
  },
  {
   "cell_type": "code",
   "execution_count": 7,
   "id": "c2fa2126",
   "metadata": {
    "execution": {
     "iopub.execute_input": "2025-01-09T13:31:27.793412Z",
     "iopub.status.busy": "2025-01-09T13:31:27.792961Z",
     "iopub.status.idle": "2025-01-09T13:31:29.312133Z",
     "shell.execute_reply": "2025-01-09T13:31:29.311007Z"
    },
    "papermill": {
     "duration": 1.526778,
     "end_time": "2025-01-09T13:31:29.314233",
     "exception": false,
     "start_time": "2025-01-09T13:31:27.787455",
     "status": "completed"
    },
    "tags": []
   },
   "outputs": [],
   "source": [
    "pack_size = 100 \n",
    "packs = create_packs(df_ema, pack_size)"
   ]
  },
  {
   "cell_type": "code",
   "execution_count": 8,
   "id": "ef32f355",
   "metadata": {
    "execution": {
     "iopub.execute_input": "2025-01-09T13:31:29.326128Z",
     "iopub.status.busy": "2025-01-09T13:31:29.325748Z",
     "iopub.status.idle": "2025-01-09T13:31:29.331977Z",
     "shell.execute_reply": "2025-01-09T13:31:29.330854Z"
    },
    "papermill": {
     "duration": 0.013998,
     "end_time": "2025-01-09T13:31:29.333537",
     "exception": false,
     "start_time": "2025-01-09T13:31:29.319539",
     "status": "completed"
    },
    "tags": []
   },
   "outputs": [
    {
     "data": {
      "text/plain": [
       "(numpy.ndarray, (500652, 100, 5))"
      ]
     },
     "execution_count": 8,
     "metadata": {},
     "output_type": "execute_result"
    }
   ],
   "source": [
    "type(packs), packs.shape"
   ]
  },
  {
   "cell_type": "markdown",
   "id": "c3a65017",
   "metadata": {
    "papermill": {
     "duration": 0.004437,
     "end_time": "2025-01-09T13:31:29.342840",
     "exception": false,
     "start_time": "2025-01-09T13:31:29.338403",
     "status": "completed"
    },
    "tags": []
   },
   "source": [
    "#Normalization"
   ]
  },
  {
   "cell_type": "code",
   "execution_count": 9,
   "id": "34fae579",
   "metadata": {
    "execution": {
     "iopub.execute_input": "2025-01-09T13:31:29.353426Z",
     "iopub.status.busy": "2025-01-09T13:31:29.353028Z",
     "iopub.status.idle": "2025-01-09T13:31:29.358164Z",
     "shell.execute_reply": "2025-01-09T13:31:29.357257Z"
    },
    "papermill": {
     "duration": 0.012398,
     "end_time": "2025-01-09T13:31:29.359872",
     "exception": false,
     "start_time": "2025-01-09T13:31:29.347474",
     "status": "completed"
    },
    "tags": []
   },
   "outputs": [],
   "source": [
    "def normalize_packs(packs):\n",
    "\n",
    "    # Initialize MinMaxScaler\n",
    "    scaler = MinMaxScaler()\n",
    "    \n",
    "    # Reshape the data to 2D for fitting the scaler (num_packs * pack_size, num_features)\n",
    "    num_packs, pack_size, num_features = packs.shape\n",
    "    reshaped_packs = packs.reshape(-1, num_features)\n",
    "    \n",
    "    # Fit and transform the scaler on the reshaped data\n",
    "    normalized_data = scaler.fit_transform(reshaped_packs)\n",
    "    \n",
    "    # Reshape back to the original pack structure\n",
    "    normalized_packs = normalized_data.reshape(num_packs, pack_size, num_features)\n",
    "    \n",
    "    return normalized_packs\n"
   ]
  },
  {
   "cell_type": "code",
   "execution_count": 10,
   "id": "d46d6810",
   "metadata": {
    "execution": {
     "iopub.execute_input": "2025-01-09T13:31:29.371202Z",
     "iopub.status.busy": "2025-01-09T13:31:29.370866Z",
     "iopub.status.idle": "2025-01-09T13:31:36.447696Z",
     "shell.execute_reply": "2025-01-09T13:31:36.446637Z"
    },
    "papermill": {
     "duration": 7.084537,
     "end_time": "2025-01-09T13:31:36.449439",
     "exception": false,
     "start_time": "2025-01-09T13:31:29.364902",
     "status": "completed"
    },
    "tags": []
   },
   "outputs": [
    {
     "name": "stdout",
     "output_type": "stream",
     "text": [
      "Shape of normalized packs: (500652, 100, 5)\n"
     ]
    }
   ],
   "source": [
    "# Example usage\n",
    "normalized_packs = normalize_packs(packs)\n",
    "\n",
    "print(\"Shape of normalized packs:\", normalized_packs.shape)"
   ]
  },
  {
   "cell_type": "code",
   "execution_count": 11,
   "id": "7e6095c4",
   "metadata": {
    "execution": {
     "iopub.execute_input": "2025-01-09T13:31:36.460984Z",
     "iopub.status.busy": "2025-01-09T13:31:36.460593Z",
     "iopub.status.idle": "2025-01-09T13:31:38.244918Z",
     "shell.execute_reply": "2025-01-09T13:31:38.243743Z"
    },
    "papermill": {
     "duration": 1.792389,
     "end_time": "2025-01-09T13:31:38.246955",
     "exception": false,
     "start_time": "2025-01-09T13:31:36.454566",
     "status": "completed"
    },
    "tags": []
   },
   "outputs": [],
   "source": [
    "train_size = 0.7  # 70% for training\n",
    "val_size = 0.1    # 10% for validation\n",
    "test_size = 0.2   # 20% for testing\n",
    "\n",
    "# Split for training and temporary (validation + test)\n",
    "packs_train, packs_temp, norm_packs_train, norm_packs_temp = train_test_split(\n",
    "    packs, normalized_packs, test_size=(val_size + test_size), random_state=42)"
   ]
  },
  {
   "cell_type": "code",
   "execution_count": 12,
   "id": "eecd21f6",
   "metadata": {
    "execution": {
     "iopub.execute_input": "2025-01-09T13:31:38.258125Z",
     "iopub.status.busy": "2025-01-09T13:31:38.257799Z",
     "iopub.status.idle": "2025-01-09T13:31:38.263913Z",
     "shell.execute_reply": "2025-01-09T13:31:38.263061Z"
    },
    "papermill": {
     "duration": 0.013479,
     "end_time": "2025-01-09T13:31:38.265485",
     "exception": false,
     "start_time": "2025-01-09T13:31:38.252006",
     "status": "completed"
    },
    "tags": []
   },
   "outputs": [
    {
     "data": {
      "text/plain": [
       "((350456, 100, 5), (150196, 100, 5), (350456, 100, 5), (150196, 100, 5))"
      ]
     },
     "execution_count": 12,
     "metadata": {},
     "output_type": "execute_result"
    }
   ],
   "source": [
    "packs_train.shape, packs_temp.shape, norm_packs_train.shape, norm_packs_temp.shape"
   ]
  },
  {
   "cell_type": "code",
   "execution_count": 13,
   "id": "d8f26967",
   "metadata": {
    "execution": {
     "iopub.execute_input": "2025-01-09T13:31:38.277388Z",
     "iopub.status.busy": "2025-01-09T13:31:38.277016Z",
     "iopub.status.idle": "2025-01-09T13:31:38.806516Z",
     "shell.execute_reply": "2025-01-09T13:31:38.805643Z"
    },
    "papermill": {
     "duration": 0.537341,
     "end_time": "2025-01-09T13:31:38.808478",
     "exception": false,
     "start_time": "2025-01-09T13:31:38.271137",
     "status": "completed"
    },
    "tags": []
   },
   "outputs": [],
   "source": [
    "val_ratio = val_size / (val_size + test_size)  # Adjust ratio for temp split\n",
    "packs_val, packs_test, norm_packs_val, norm_packs_test = train_test_split(\n",
    "    packs_temp, norm_packs_temp, test_size=(1 - val_ratio), random_state=42\n",
    ")"
   ]
  },
  {
   "cell_type": "code",
   "execution_count": 14,
   "id": "7746256d",
   "metadata": {
    "execution": {
     "iopub.execute_input": "2025-01-09T13:31:38.819581Z",
     "iopub.status.busy": "2025-01-09T13:31:38.819182Z",
     "iopub.status.idle": "2025-01-09T13:31:38.825126Z",
     "shell.execute_reply": "2025-01-09T13:31:38.824092Z"
    },
    "papermill": {
     "duration": 0.013255,
     "end_time": "2025-01-09T13:31:38.826716",
     "exception": false,
     "start_time": "2025-01-09T13:31:38.813461",
     "status": "completed"
    },
    "tags": []
   },
   "outputs": [
    {
     "data": {
      "text/plain": [
       "((50065, 100, 5), (100131, 100, 5))"
      ]
     },
     "execution_count": 14,
     "metadata": {},
     "output_type": "execute_result"
    }
   ],
   "source": [
    "packs_val.shape, packs_test.shape"
   ]
  },
  {
   "cell_type": "code",
   "execution_count": null,
   "id": "763eb6be",
   "metadata": {
    "papermill": {
     "duration": 0.004746,
     "end_time": "2025-01-09T13:31:38.836545",
     "exception": false,
     "start_time": "2025-01-09T13:31:38.831799",
     "status": "completed"
    },
    "tags": []
   },
   "outputs": [],
   "source": []
  }
 ],
 "metadata": {
  "colab": {
   "provenance": []
  },
  "kaggle": {
   "accelerator": "none",
   "dataSources": [],
   "dockerImageVersionId": 30822,
   "isGpuEnabled": false,
   "isInternetEnabled": true,
   "language": "python",
   "sourceType": "notebook"
  },
  "kernelspec": {
   "display_name": "Python 3",
   "language": "python",
   "name": "python3"
  },
  "language_info": {
   "codemirror_mode": {
    "name": "ipython",
    "version": 3
   },
   "file_extension": ".py",
   "mimetype": "text/x-python",
   "name": "python",
   "nbconvert_exporter": "python",
   "pygments_lexer": "ipython3",
   "version": "3.10.12"
  },
  "papermill": {
   "default_parameters": {},
   "duration": 20.507588,
   "end_time": "2025-01-09T13:31:39.562550",
   "environment_variables": {},
   "exception": null,
   "input_path": "__notebook__.ipynb",
   "output_path": "__notebook__.ipynb",
   "parameters": {},
   "start_time": "2025-01-09T13:31:19.054962",
   "version": "2.6.0"
  }
 },
 "nbformat": 4,
 "nbformat_minor": 5
}
