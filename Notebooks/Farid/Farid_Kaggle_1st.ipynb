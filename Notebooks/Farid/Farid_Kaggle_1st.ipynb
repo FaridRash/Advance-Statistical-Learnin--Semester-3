{
 "cells": [
  {
   "cell_type": "code",
   "execution_count": 1,
   "id": "8f32865e",
   "metadata": {
    "execution": {
     "iopub.execute_input": "2025-01-10T13:14:54.077933Z",
     "iopub.status.busy": "2025-01-10T13:14:54.077508Z",
     "iopub.status.idle": "2025-01-10T13:14:58.104931Z",
     "shell.execute_reply": "2025-01-10T13:14:58.103634Z"
    },
    "id": "g_n67soMKYth",
    "outputId": "be56ee3c-7794-49a8-b564-ef3487c6cf82",
    "papermill": {
     "duration": 4.03783,
     "end_time": "2025-01-10T13:14:58.107664",
     "exception": false,
     "start_time": "2025-01-10T13:14:54.069834",
     "status": "completed"
    },
    "tags": []
   },
   "outputs": [
    {
     "name": "stdout",
     "output_type": "stream",
     "text": [
      "Cloning into 'Advance-Statistical-Learnin--Semester-3'...\r\n",
      "remote: Enumerating objects: 34, done.\u001b[K\r\n",
      "remote: Counting objects: 100% (34/34), done.\u001b[K\r\n",
      "remote: Compressing objects: 100% (26/26), done.\u001b[K\r\n",
      "remote: Total 34 (delta 5), reused 11 (delta 0), pack-reused 0 (from 0)\u001b[K\r\n",
      "Receiving objects: 100% (34/34), 33.01 MiB | 15.87 MiB/s, done.\r\n",
      "Resolving deltas: 100% (5/5), done.\r\n"
     ]
    }
   ],
   "source": [
    "!git clone https://github.com/FaridRash/Advance-Statistical-Learnin--Semester-3"
   ]
  },
  {
   "cell_type": "code",
   "execution_count": 2,
   "id": "f5c4a3c7",
   "metadata": {
    "_cell_guid": "b1076dfc-b9ad-4769-8c92-a6c4dae69d19",
    "_uuid": "8f2839f25d086af736a60e9eeb907d3b93b6e0e5",
    "execution": {
     "iopub.execute_input": "2025-01-10T13:14:58.120094Z",
     "iopub.status.busy": "2025-01-10T13:14:58.119704Z",
     "iopub.status.idle": "2025-01-10T13:15:00.271270Z",
     "shell.execute_reply": "2025-01-10T13:15:00.270156Z"
    },
    "id": "1aab1c42",
    "papermill": {
     "duration": 2.160165,
     "end_time": "2025-01-10T13:15:00.273369",
     "exception": false,
     "start_time": "2025-01-10T13:14:58.113204",
     "status": "completed"
    },
    "tags": []
   },
   "outputs": [],
   "source": [
    "import numpy as np\n",
    "import pandas as pd\n",
    "from sklearn.preprocessing import MinMaxScaler\n",
    "from sklearn.model_selection import train_test_split"
   ]
  },
  {
   "cell_type": "code",
   "execution_count": 3,
   "id": "30cb608c",
   "metadata": {
    "execution": {
     "iopub.execute_input": "2025-01-10T13:15:00.285396Z",
     "iopub.status.busy": "2025-01-10T13:15:00.284871Z",
     "iopub.status.idle": "2025-01-10T13:15:01.003308Z",
     "shell.execute_reply": "2025-01-10T13:15:01.001938Z"
    },
    "id": "8d85ec77",
    "papermill": {
     "duration": 0.727015,
     "end_time": "2025-01-10T13:15:01.005773",
     "exception": false,
     "start_time": "2025-01-10T13:15:00.278758",
     "status": "completed"
    },
    "tags": []
   },
   "outputs": [],
   "source": [
    "data_path = \"/kaggle/working/Advance-Statistical-Learnin--Semester-3/Dataset/EURUSD-2000-2020-15m.csv\"\n",
    "df = pd.read_csv(data_path)"
   ]
  },
  {
   "cell_type": "code",
   "execution_count": 4,
   "id": "75ad9102",
   "metadata": {
    "execution": {
     "iopub.execute_input": "2025-01-10T13:15:01.018068Z",
     "iopub.status.busy": "2025-01-10T13:15:01.017652Z",
     "iopub.status.idle": "2025-01-10T13:15:01.049582Z",
     "shell.execute_reply": "2025-01-10T13:15:01.048295Z"
    },
    "id": "JMBWOgcKKvoc",
    "papermill": {
     "duration": 0.040663,
     "end_time": "2025-01-10T13:15:01.051961",
     "exception": false,
     "start_time": "2025-01-10T13:15:01.011298",
     "status": "completed"
    },
    "tags": []
   },
   "outputs": [],
   "source": [
    "\n",
    "def EMA(df, base, target, period, alpha=False):\n",
    "    \"\"\"\n",
    "    Function to compute Exponential Moving Average (EMA)\n",
    "    \"\"\"\n",
    "    con = pd.concat([df[:period][base].rolling(window=period).mean(), df[period:][base]])\n",
    "    if (alpha == False):\n",
    "        df[target] = con.ewm(span=period, adjust=False).mean()\n",
    "    else:\n",
    "        df[target] = con.ewm(alpha=alpha, adjust=False).mean()\n",
    "    return df\n",
    "\n",
    "df_ema = EMA(df, 'CLOSE', 'EMA_20', 20)"
   ]
  },
  {
   "cell_type": "code",
   "execution_count": 5,
   "id": "59ea31c9",
   "metadata": {
    "execution": {
     "iopub.execute_input": "2025-01-10T13:15:01.063544Z",
     "iopub.status.busy": "2025-01-10T13:15:01.063132Z",
     "iopub.status.idle": "2025-01-10T13:15:01.084015Z",
     "shell.execute_reply": "2025-01-10T13:15:01.082649Z"
    },
    "id": "3Vl1-9aRMdKj",
    "outputId": "6ebdbb97-8e6b-4fb3-80ca-cc0dce31d92d",
    "papermill": {
     "duration": 0.029007,
     "end_time": "2025-01-10T13:15:01.086099",
     "exception": false,
     "start_time": "2025-01-10T13:15:01.057092",
     "status": "completed"
    },
    "tags": []
   },
   "outputs": [
    {
     "data": {
      "text/html": [
       "<div>\n",
       "<style scoped>\n",
       "    .dataframe tbody tr th:only-of-type {\n",
       "        vertical-align: middle;\n",
       "    }\n",
       "\n",
       "    .dataframe tbody tr th {\n",
       "        vertical-align: top;\n",
       "    }\n",
       "\n",
       "    .dataframe thead th {\n",
       "        text-align: right;\n",
       "    }\n",
       "</style>\n",
       "<table border=\"1\" class=\"dataframe\">\n",
       "  <thead>\n",
       "    <tr style=\"text-align: right;\">\n",
       "      <th></th>\n",
       "      <th>DATE_TIME</th>\n",
       "      <th>HIGH</th>\n",
       "      <th>LOW</th>\n",
       "      <th>OPEN</th>\n",
       "      <th>CLOSE</th>\n",
       "      <th>EMA_20</th>\n",
       "    </tr>\n",
       "  </thead>\n",
       "  <tbody>\n",
       "    <tr>\n",
       "      <th>0</th>\n",
       "      <td>2000.01.03 00:00:00</td>\n",
       "      <td>1.0080</td>\n",
       "      <td>1.0073</td>\n",
       "      <td>1.0073</td>\n",
       "      <td>1.0077</td>\n",
       "      <td>NaN</td>\n",
       "    </tr>\n",
       "    <tr>\n",
       "      <th>1</th>\n",
       "      <td>2000.01.03 00:15:00</td>\n",
       "      <td>1.0087</td>\n",
       "      <td>1.0076</td>\n",
       "      <td>1.0078</td>\n",
       "      <td>1.0086</td>\n",
       "      <td>NaN</td>\n",
       "    </tr>\n",
       "    <tr>\n",
       "      <th>2</th>\n",
       "      <td>2000.01.03 00:30:00</td>\n",
       "      <td>1.0089</td>\n",
       "      <td>1.0079</td>\n",
       "      <td>1.0087</td>\n",
       "      <td>1.0079</td>\n",
       "      <td>NaN</td>\n",
       "    </tr>\n",
       "    <tr>\n",
       "      <th>3</th>\n",
       "      <td>2000.01.03 00:45:00</td>\n",
       "      <td>1.0132</td>\n",
       "      <td>1.0078</td>\n",
       "      <td>1.0078</td>\n",
       "      <td>1.0128</td>\n",
       "      <td>NaN</td>\n",
       "    </tr>\n",
       "    <tr>\n",
       "      <th>4</th>\n",
       "      <td>2000.01.03 01:00:00</td>\n",
       "      <td>1.0133</td>\n",
       "      <td>1.0120</td>\n",
       "      <td>1.0129</td>\n",
       "      <td>1.0122</td>\n",
       "      <td>NaN</td>\n",
       "    </tr>\n",
       "  </tbody>\n",
       "</table>\n",
       "</div>"
      ],
      "text/plain": [
       "             DATE_TIME    HIGH     LOW    OPEN   CLOSE  EMA_20\n",
       "0  2000.01.03 00:00:00  1.0080  1.0073  1.0073  1.0077     NaN\n",
       "1  2000.01.03 00:15:00  1.0087  1.0076  1.0078  1.0086     NaN\n",
       "2  2000.01.03 00:30:00  1.0089  1.0079  1.0087  1.0079     NaN\n",
       "3  2000.01.03 00:45:00  1.0132  1.0078  1.0078  1.0128     NaN\n",
       "4  2000.01.03 01:00:00  1.0133  1.0120  1.0129  1.0122     NaN"
      ]
     },
     "execution_count": 5,
     "metadata": {},
     "output_type": "execute_result"
    }
   ],
   "source": [
    "df_ema.head()"
   ]
  },
  {
   "cell_type": "markdown",
   "id": "064106bf",
   "metadata": {
    "papermill": {
     "duration": 0.004917,
     "end_time": "2025-01-10T13:15:01.096542",
     "exception": false,
     "start_time": "2025-01-10T13:15:01.091625",
     "status": "completed"
    },
    "tags": []
   },
   "source": [
    "#Packing"
   ]
  },
  {
   "cell_type": "code",
   "execution_count": 6,
   "id": "d7923449",
   "metadata": {
    "execution": {
     "iopub.execute_input": "2025-01-10T13:15:01.108340Z",
     "iopub.status.busy": "2025-01-10T13:15:01.107973Z",
     "iopub.status.idle": "2025-01-10T13:15:01.113586Z",
     "shell.execute_reply": "2025-01-10T13:15:01.112396Z"
    },
    "id": "xiqFtiQxMebF",
    "papermill": {
     "duration": 0.013745,
     "end_time": "2025-01-10T13:15:01.115486",
     "exception": false,
     "start_time": "2025-01-10T13:15:01.101741",
     "status": "completed"
    },
    "tags": []
   },
   "outputs": [],
   "source": [
    "def create_packs(df, pack_size):\n",
    "\n",
    "    numerical_data = df[['HIGH', 'LOW', 'OPEN', 'CLOSE', 'EMA_20']].values\n",
    "    \n",
    "    num_packs = len(numerical_data) - pack_size + 1\n",
    "    \n",
    "    packs = np.array([numerical_data[i:i + pack_size] for i in range(num_packs)])\n",
    "    \n",
    "    return packs"
   ]
  },
  {
   "cell_type": "code",
   "execution_count": 7,
   "id": "bf01ae5d",
   "metadata": {
    "execution": {
     "iopub.execute_input": "2025-01-10T13:15:01.127513Z",
     "iopub.status.busy": "2025-01-10T13:15:01.127127Z",
     "iopub.status.idle": "2025-01-10T13:15:02.737056Z",
     "shell.execute_reply": "2025-01-10T13:15:02.735320Z"
    },
    "papermill": {
     "duration": 1.61837,
     "end_time": "2025-01-10T13:15:02.739218",
     "exception": false,
     "start_time": "2025-01-10T13:15:01.120848",
     "status": "completed"
    },
    "tags": []
   },
   "outputs": [],
   "source": [
    "pack_size = 100 \n",
    "packs = create_packs(df_ema, pack_size)"
   ]
  },
  {
   "cell_type": "code",
   "execution_count": 8,
   "id": "5cd78854",
   "metadata": {
    "execution": {
     "iopub.execute_input": "2025-01-10T13:15:02.751811Z",
     "iopub.status.busy": "2025-01-10T13:15:02.751449Z",
     "iopub.status.idle": "2025-01-10T13:15:02.759163Z",
     "shell.execute_reply": "2025-01-10T13:15:02.757910Z"
    },
    "papermill": {
     "duration": 0.016378,
     "end_time": "2025-01-10T13:15:02.761070",
     "exception": false,
     "start_time": "2025-01-10T13:15:02.744692",
     "status": "completed"
    },
    "tags": []
   },
   "outputs": [
    {
     "data": {
      "text/plain": [
       "(numpy.ndarray, (500652, 100, 5))"
      ]
     },
     "execution_count": 8,
     "metadata": {},
     "output_type": "execute_result"
    }
   ],
   "source": [
    "type(packs), packs.shape"
   ]
  },
  {
   "cell_type": "markdown",
   "id": "dfc2b6cb",
   "metadata": {
    "papermill": {
     "duration": 0.005235,
     "end_time": "2025-01-10T13:15:02.772010",
     "exception": false,
     "start_time": "2025-01-10T13:15:02.766775",
     "status": "completed"
    },
    "tags": []
   },
   "source": [
    "#Normalization"
   ]
  },
  {
   "cell_type": "code",
   "execution_count": 9,
   "id": "50c959c7",
   "metadata": {
    "execution": {
     "iopub.execute_input": "2025-01-10T13:15:02.784118Z",
     "iopub.status.busy": "2025-01-10T13:15:02.783703Z",
     "iopub.status.idle": "2025-01-10T13:15:02.789296Z",
     "shell.execute_reply": "2025-01-10T13:15:02.788108Z"
    },
    "papermill": {
     "duration": 0.01473,
     "end_time": "2025-01-10T13:15:02.792025",
     "exception": false,
     "start_time": "2025-01-10T13:15:02.777295",
     "status": "completed"
    },
    "tags": []
   },
   "outputs": [],
   "source": [
    "def normalize_packs(packs):\n",
    "\n",
    "    # Initialize MinMaxScaler\n",
    "    scaler = MinMaxScaler()\n",
    "    \n",
    "    # Reshape the data to 2D for fitting the scaler (num_packs * pack_size, num_features)\n",
    "    num_packs, pack_size, num_features = packs.shape\n",
    "    reshaped_packs = packs.reshape(-1, num_features)\n",
    "    \n",
    "    # Fit and transform the scaler on the reshaped data\n",
    "    normalized_data = scaler.fit_transform(reshaped_packs)\n",
    "    \n",
    "    # Reshape back to the original pack structure\n",
    "    normalized_packs = normalized_data.reshape(num_packs, pack_size, num_features)\n",
    "    \n",
    "    return normalized_packs\n"
   ]
  },
  {
   "cell_type": "code",
   "execution_count": 10,
   "id": "39475ccd",
   "metadata": {
    "execution": {
     "iopub.execute_input": "2025-01-10T13:15:02.804431Z",
     "iopub.status.busy": "2025-01-10T13:15:02.804030Z",
     "iopub.status.idle": "2025-01-10T13:15:10.281249Z",
     "shell.execute_reply": "2025-01-10T13:15:10.279877Z"
    },
    "papermill": {
     "duration": 7.485337,
     "end_time": "2025-01-10T13:15:10.283072",
     "exception": false,
     "start_time": "2025-01-10T13:15:02.797735",
     "status": "completed"
    },
    "tags": []
   },
   "outputs": [
    {
     "name": "stdout",
     "output_type": "stream",
     "text": [
      "Shape of normalized packs: (500652, 100, 5)\n"
     ]
    }
   ],
   "source": [
    "# Example usage\n",
    "normalized_packs = normalize_packs(packs)\n",
    "\n",
    "print(\"Shape of normalized packs:\", normalized_packs.shape)"
   ]
  },
  {
   "cell_type": "code",
   "execution_count": 11,
   "id": "1798cccf",
   "metadata": {
    "execution": {
     "iopub.execute_input": "2025-01-10T13:15:10.295860Z",
     "iopub.status.busy": "2025-01-10T13:15:10.295475Z",
     "iopub.status.idle": "2025-01-10T13:15:12.290810Z",
     "shell.execute_reply": "2025-01-10T13:15:12.289028Z"
    },
    "papermill": {
     "duration": 2.004521,
     "end_time": "2025-01-10T13:15:12.293266",
     "exception": false,
     "start_time": "2025-01-10T13:15:10.288745",
     "status": "completed"
    },
    "tags": []
   },
   "outputs": [],
   "source": [
    "train_size = 0.7  # 70% for training\n",
    "val_size = 0.1    # 10% for validation\n",
    "test_size = 0.2   # 20% for testing\n",
    "\n",
    "# Split for training and temporary (validation + test)\n",
    "packs_train, packs_temp, norm_packs_train, norm_packs_temp = train_test_split(\n",
    "    packs, normalized_packs, test_size=(val_size + test_size), random_state=42)"
   ]
  },
  {
   "cell_type": "code",
   "execution_count": 12,
   "id": "88846cf1",
   "metadata": {
    "execution": {
     "iopub.execute_input": "2025-01-10T13:15:12.306288Z",
     "iopub.status.busy": "2025-01-10T13:15:12.305925Z",
     "iopub.status.idle": "2025-01-10T13:15:12.894152Z",
     "shell.execute_reply": "2025-01-10T13:15:12.892597Z"
    },
    "papermill": {
     "duration": 0.59797,
     "end_time": "2025-01-10T13:15:12.896853",
     "exception": false,
     "start_time": "2025-01-10T13:15:12.298883",
     "status": "completed"
    },
    "tags": []
   },
   "outputs": [],
   "source": [
    "val_ratio = val_size / (val_size + test_size)  # Adjust ratio for temp split\n",
    "packs_val, packs_test, norm_packs_val, norm_packs_test = train_test_split(\n",
    "    packs_temp, norm_packs_temp, test_size=(1 - val_ratio), random_state=42\n",
    ")"
   ]
  },
  {
   "cell_type": "code",
   "execution_count": 13,
   "id": "1c103efb",
   "metadata": {
    "execution": {
     "iopub.execute_input": "2025-01-10T13:15:12.909789Z",
     "iopub.status.busy": "2025-01-10T13:15:12.909378Z",
     "iopub.status.idle": "2025-01-10T13:15:12.920419Z",
     "shell.execute_reply": "2025-01-10T13:15:12.919200Z"
    },
    "papermill": {
     "duration": 0.020197,
     "end_time": "2025-01-10T13:15:12.922688",
     "exception": false,
     "start_time": "2025-01-10T13:15:12.902491",
     "status": "completed"
    },
    "tags": []
   },
   "outputs": [
    {
     "name": "stdout",
     "output_type": "stream",
     "text": [
      "Packs Train size: 350456\n",
      "Packs Validation size: 50065\n",
      "Packs Test size: 100131\n",
      "-----------\n",
      "Normalized Train size: 350456\n",
      "Normalized Validation size: 50065\n",
      "Normalized Test size: 100131\n"
     ]
    }
   ],
   "source": [
    "print(\"Packs Train size:\", len(packs_train))\n",
    "print(\"Packs Validation size:\", len(packs_val))\n",
    "print(\"Packs Test size:\", len(packs_test))\n",
    "print('-----------')\n",
    "print(\"Normalized Train size:\", len(norm_packs_train))\n",
    "print(\"Normalized Validation size:\", len(norm_packs_val))\n",
    "print(\"Normalized Test size:\", len(norm_packs_test))"
   ]
  },
  {
   "cell_type": "code",
   "execution_count": 14,
   "id": "3940bb43",
   "metadata": {
    "execution": {
     "iopub.execute_input": "2025-01-10T13:15:12.936310Z",
     "iopub.status.busy": "2025-01-10T13:15:12.935911Z",
     "iopub.status.idle": "2025-01-10T13:15:12.940869Z",
     "shell.execute_reply": "2025-01-10T13:15:12.939665Z"
    },
    "papermill": {
     "duration": 0.013697,
     "end_time": "2025-01-10T13:15:12.942760",
     "exception": false,
     "start_time": "2025-01-10T13:15:12.929063",
     "status": "completed"
    },
    "tags": []
   },
   "outputs": [],
   "source": [
    "def get_state(packs, index):\n",
    "\n",
    "    state = packs[index]\n",
    "    next_state = packs[index + 1] if index + 1 < len(packs) else None\n",
    "    return state, next_state\n"
   ]
  },
  {
   "cell_type": "code",
   "execution_count": 15,
   "id": "5885c56f",
   "metadata": {
    "execution": {
     "iopub.execute_input": "2025-01-10T13:15:12.955892Z",
     "iopub.status.busy": "2025-01-10T13:15:12.955307Z",
     "iopub.status.idle": "2025-01-10T13:15:12.961034Z",
     "shell.execute_reply": "2025-01-10T13:15:12.959749Z"
    },
    "papermill": {
     "duration": 0.014588,
     "end_time": "2025-01-10T13:15:12.962959",
     "exception": false,
     "start_time": "2025-01-10T13:15:12.948371",
     "status": "completed"
    },
    "tags": []
   },
   "outputs": [],
   "source": [
    "def select_action(q_values, epsilon):\n",
    "\n",
    "    if np.random.rand() < epsilon:\n",
    "        action = np.random.choice([0, 1, 2])\n",
    "    else:\n",
    "        action = np.argmax(q_values)\n",
    "    return action"
   ]
  },
  {
   "cell_type": "code",
   "execution_count": 16,
   "id": "350273fd",
   "metadata": {
    "execution": {
     "iopub.execute_input": "2025-01-10T13:15:12.975693Z",
     "iopub.status.busy": "2025-01-10T13:15:12.975266Z",
     "iopub.status.idle": "2025-01-10T13:15:12.981840Z",
     "shell.execute_reply": "2025-01-10T13:15:12.980416Z"
    },
    "papermill": {
     "duration": 0.015347,
     "end_time": "2025-01-10T13:15:12.984000",
     "exception": false,
     "start_time": "2025-01-10T13:15:12.968653",
     "status": "completed"
    },
    "tags": []
   },
   "outputs": [],
   "source": [
    "def calculate_reward(action, open_price, stop_loss, target, close_price, low, high, max_hold, current_hold):\n",
    "\n",
    "    \n",
    "    if action == 'buy':\n",
    "        if low <= stop_loss: \n",
    "            return -1.0\n",
    "        elif high >= target:\n",
    "            return +2.0\n",
    "\n",
    "    elif action == 'sell':\n",
    "        if high >= stop_loss: \n",
    "            return -1.0\n",
    "        elif low <= target: \n",
    "            return +2.0\n",
    "    \n",
    "    elif current_hold >= max_hold:\n",
    "        return (close_price - open_price) / open_price - 0.1 \n",
    "\n",
    "    elif action == 'hold':\n",
    "        return -0.05  \n",
    "        \n",
    "    return 0.0\n"
   ]
  },
  {
   "cell_type": "code",
   "execution_count": null,
   "id": "567c5646",
   "metadata": {
    "papermill": {
     "duration": 0.005358,
     "end_time": "2025-01-10T13:15:12.995334",
     "exception": false,
     "start_time": "2025-01-10T13:15:12.989976",
     "status": "completed"
    },
    "tags": []
   },
   "outputs": [],
   "source": []
  }
 ],
 "metadata": {
  "colab": {
   "provenance": []
  },
  "kaggle": {
   "accelerator": "none",
   "dataSources": [],
   "dockerImageVersionId": 30822,
   "isGpuEnabled": false,
   "isInternetEnabled": true,
   "language": "python",
   "sourceType": "notebook"
  },
  "kernelspec": {
   "display_name": "Python 3",
   "language": "python",
   "name": "python3"
  },
  "language_info": {
   "codemirror_mode": {
    "name": "ipython",
    "version": 3
   },
   "file_extension": ".py",
   "mimetype": "text/x-python",
   "name": "python",
   "nbconvert_exporter": "python",
   "pygments_lexer": "ipython3",
   "version": "3.10.12"
  },
  "papermill": {
   "default_parameters": {},
   "duration": 22.322028,
   "end_time": "2025-01-10T13:15:13.824001",
   "environment_variables": {},
   "exception": null,
   "input_path": "__notebook__.ipynb",
   "output_path": "__notebook__.ipynb",
   "parameters": {},
   "start_time": "2025-01-10T13:14:51.501973",
   "version": "2.6.0"
  }
 },
 "nbformat": 4,
 "nbformat_minor": 5
}
