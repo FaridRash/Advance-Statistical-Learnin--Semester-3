{
 "cells": [
  {
   "cell_type": "code",
   "execution_count": 1,
   "id": "ea1a2477",
   "metadata": {
    "execution": {
     "iopub.execute_input": "2025-01-10T15:25:10.731474Z",
     "iopub.status.busy": "2025-01-10T15:25:10.731103Z",
     "iopub.status.idle": "2025-01-10T15:25:14.961367Z",
     "shell.execute_reply": "2025-01-10T15:25:14.959720Z"
    },
    "id": "g_n67soMKYth",
    "outputId": "be56ee3c-7794-49a8-b564-ef3487c6cf82",
    "papermill": {
     "duration": 4.238783,
     "end_time": "2025-01-10T15:25:14.963786",
     "exception": false,
     "start_time": "2025-01-10T15:25:10.725003",
     "status": "completed"
    },
    "tags": []
   },
   "outputs": [
    {
     "name": "stdout",
     "output_type": "stream",
     "text": [
      "Cloning into 'Advance-Statistical-Learnin--Semester-3'...\r\n",
      "remote: Enumerating objects: 39, done.\u001b[K\r\n",
      "remote: Counting objects: 100% (39/39), done.\u001b[K\r\n",
      "remote: Compressing objects: 100% (30/30), done.\u001b[K\r\n",
      "remote: Total 39 (delta 7), reused 11 (delta 0), pack-reused 0 (from 0)\u001b[K\r\n",
      "Receiving objects: 100% (39/39), 33.01 MiB | 15.26 MiB/s, done.\r\n",
      "Resolving deltas: 100% (7/7), done.\r\n"
     ]
    }
   ],
   "source": [
    "!git clone https://github.com/FaridRash/Advance-Statistical-Learnin--Semester-3"
   ]
  },
  {
   "cell_type": "code",
   "execution_count": 2,
   "id": "ff211da6",
   "metadata": {
    "_cell_guid": "b1076dfc-b9ad-4769-8c92-a6c4dae69d19",
    "_uuid": "8f2839f25d086af736a60e9eeb907d3b93b6e0e5",
    "execution": {
     "iopub.execute_input": "2025-01-10T15:25:14.976334Z",
     "iopub.status.busy": "2025-01-10T15:25:14.975977Z",
     "iopub.status.idle": "2025-01-10T15:25:17.528241Z",
     "shell.execute_reply": "2025-01-10T15:25:17.527004Z"
    },
    "id": "1aab1c42",
    "papermill": {
     "duration": 2.560996,
     "end_time": "2025-01-10T15:25:17.530401",
     "exception": false,
     "start_time": "2025-01-10T15:25:14.969405",
     "status": "completed"
    },
    "tags": []
   },
   "outputs": [],
   "source": [
    "import numpy as np\n",
    "import pandas as pd\n",
    "from sklearn.preprocessing import MinMaxScaler\n",
    "from sklearn.model_selection import train_test_split"
   ]
  },
  {
   "cell_type": "code",
   "execution_count": 3,
   "id": "cbca0da7",
   "metadata": {
    "execution": {
     "iopub.execute_input": "2025-01-10T15:25:17.542966Z",
     "iopub.status.busy": "2025-01-10T15:25:17.542373Z",
     "iopub.status.idle": "2025-01-10T15:25:18.220748Z",
     "shell.execute_reply": "2025-01-10T15:25:18.219260Z"
    },
    "id": "8d85ec77",
    "papermill": {
     "duration": 0.686681,
     "end_time": "2025-01-10T15:25:18.222901",
     "exception": false,
     "start_time": "2025-01-10T15:25:17.536220",
     "status": "completed"
    },
    "tags": []
   },
   "outputs": [],
   "source": [
    "data_path = \"/kaggle/working/Advance-Statistical-Learnin--Semester-3/Dataset/EURUSD-2000-2020-15m.csv\"\n",
    "df = pd.read_csv(data_path)"
   ]
  },
  {
   "cell_type": "code",
   "execution_count": 4,
   "id": "3c91c4f0",
   "metadata": {
    "execution": {
     "iopub.execute_input": "2025-01-10T15:25:18.235364Z",
     "iopub.status.busy": "2025-01-10T15:25:18.234977Z",
     "iopub.status.idle": "2025-01-10T15:25:18.266898Z",
     "shell.execute_reply": "2025-01-10T15:25:18.265938Z"
    },
    "id": "JMBWOgcKKvoc",
    "papermill": {
     "duration": 0.040716,
     "end_time": "2025-01-10T15:25:18.269041",
     "exception": false,
     "start_time": "2025-01-10T15:25:18.228325",
     "status": "completed"
    },
    "tags": []
   },
   "outputs": [],
   "source": [
    "\n",
    "def EMA(df, base, target, period, alpha=False):\n",
    "    \"\"\"\n",
    "    Function to compute Exponential Moving Average (EMA)\n",
    "    \"\"\"\n",
    "    con = pd.concat([df[:period][base].rolling(window=period).mean(), df[period:][base]])\n",
    "    if (alpha == False):\n",
    "        df[target] = con.ewm(span=period, adjust=False).mean()\n",
    "    else:\n",
    "        df[target] = con.ewm(alpha=alpha, adjust=False).mean()\n",
    "    return df\n",
    "\n",
    "df_ema = EMA(df, 'CLOSE', 'EMA_20', 20)"
   ]
  },
  {
   "cell_type": "code",
   "execution_count": 5,
   "id": "9d15c3aa",
   "metadata": {
    "execution": {
     "iopub.execute_input": "2025-01-10T15:25:18.280699Z",
     "iopub.status.busy": "2025-01-10T15:25:18.280296Z",
     "iopub.status.idle": "2025-01-10T15:25:18.306295Z",
     "shell.execute_reply": "2025-01-10T15:25:18.304937Z"
    },
    "id": "3Vl1-9aRMdKj",
    "outputId": "6ebdbb97-8e6b-4fb3-80ca-cc0dce31d92d",
    "papermill": {
     "duration": 0.034152,
     "end_time": "2025-01-10T15:25:18.308313",
     "exception": false,
     "start_time": "2025-01-10T15:25:18.274161",
     "status": "completed"
    },
    "tags": []
   },
   "outputs": [
    {
     "data": {
      "text/html": [
       "<div>\n",
       "<style scoped>\n",
       "    .dataframe tbody tr th:only-of-type {\n",
       "        vertical-align: middle;\n",
       "    }\n",
       "\n",
       "    .dataframe tbody tr th {\n",
       "        vertical-align: top;\n",
       "    }\n",
       "\n",
       "    .dataframe thead th {\n",
       "        text-align: right;\n",
       "    }\n",
       "</style>\n",
       "<table border=\"1\" class=\"dataframe\">\n",
       "  <thead>\n",
       "    <tr style=\"text-align: right;\">\n",
       "      <th></th>\n",
       "      <th>DATE_TIME</th>\n",
       "      <th>HIGH</th>\n",
       "      <th>LOW</th>\n",
       "      <th>OPEN</th>\n",
       "      <th>CLOSE</th>\n",
       "      <th>EMA_20</th>\n",
       "    </tr>\n",
       "  </thead>\n",
       "  <tbody>\n",
       "    <tr>\n",
       "      <th>0</th>\n",
       "      <td>2000.01.03 00:00:00</td>\n",
       "      <td>1.0080</td>\n",
       "      <td>1.0073</td>\n",
       "      <td>1.0073</td>\n",
       "      <td>1.0077</td>\n",
       "      <td>NaN</td>\n",
       "    </tr>\n",
       "    <tr>\n",
       "      <th>1</th>\n",
       "      <td>2000.01.03 00:15:00</td>\n",
       "      <td>1.0087</td>\n",
       "      <td>1.0076</td>\n",
       "      <td>1.0078</td>\n",
       "      <td>1.0086</td>\n",
       "      <td>NaN</td>\n",
       "    </tr>\n",
       "    <tr>\n",
       "      <th>2</th>\n",
       "      <td>2000.01.03 00:30:00</td>\n",
       "      <td>1.0089</td>\n",
       "      <td>1.0079</td>\n",
       "      <td>1.0087</td>\n",
       "      <td>1.0079</td>\n",
       "      <td>NaN</td>\n",
       "    </tr>\n",
       "    <tr>\n",
       "      <th>3</th>\n",
       "      <td>2000.01.03 00:45:00</td>\n",
       "      <td>1.0132</td>\n",
       "      <td>1.0078</td>\n",
       "      <td>1.0078</td>\n",
       "      <td>1.0128</td>\n",
       "      <td>NaN</td>\n",
       "    </tr>\n",
       "    <tr>\n",
       "      <th>4</th>\n",
       "      <td>2000.01.03 01:00:00</td>\n",
       "      <td>1.0133</td>\n",
       "      <td>1.0120</td>\n",
       "      <td>1.0129</td>\n",
       "      <td>1.0122</td>\n",
       "      <td>NaN</td>\n",
       "    </tr>\n",
       "  </tbody>\n",
       "</table>\n",
       "</div>"
      ],
      "text/plain": [
       "             DATE_TIME    HIGH     LOW    OPEN   CLOSE  EMA_20\n",
       "0  2000.01.03 00:00:00  1.0080  1.0073  1.0073  1.0077     NaN\n",
       "1  2000.01.03 00:15:00  1.0087  1.0076  1.0078  1.0086     NaN\n",
       "2  2000.01.03 00:30:00  1.0089  1.0079  1.0087  1.0079     NaN\n",
       "3  2000.01.03 00:45:00  1.0132  1.0078  1.0078  1.0128     NaN\n",
       "4  2000.01.03 01:00:00  1.0133  1.0120  1.0129  1.0122     NaN"
      ]
     },
     "execution_count": 5,
     "metadata": {},
     "output_type": "execute_result"
    }
   ],
   "source": [
    "df_ema.head()"
   ]
  },
  {
   "cell_type": "markdown",
   "id": "42916e7f",
   "metadata": {
    "papermill": {
     "duration": 0.004997,
     "end_time": "2025-01-10T15:25:18.318666",
     "exception": false,
     "start_time": "2025-01-10T15:25:18.313669",
     "status": "completed"
    },
    "tags": []
   },
   "source": [
    "#Packing"
   ]
  },
  {
   "cell_type": "code",
   "execution_count": 6,
   "id": "d5a59fca",
   "metadata": {
    "execution": {
     "iopub.execute_input": "2025-01-10T15:25:18.330593Z",
     "iopub.status.busy": "2025-01-10T15:25:18.330145Z",
     "iopub.status.idle": "2025-01-10T15:25:18.335306Z",
     "shell.execute_reply": "2025-01-10T15:25:18.334268Z"
    },
    "id": "xiqFtiQxMebF",
    "papermill": {
     "duration": 0.013195,
     "end_time": "2025-01-10T15:25:18.337134",
     "exception": false,
     "start_time": "2025-01-10T15:25:18.323939",
     "status": "completed"
    },
    "tags": []
   },
   "outputs": [],
   "source": [
    "def create_packs(df, pack_size):\n",
    "\n",
    "    numerical_data = df[['HIGH', 'LOW', 'OPEN', 'CLOSE', 'EMA_20']].values\n",
    "    \n",
    "    num_packs = len(numerical_data) - pack_size + 1\n",
    "    \n",
    "    packs = np.array([numerical_data[i:i + pack_size] for i in range(num_packs)])\n",
    "    \n",
    "    return packs"
   ]
  },
  {
   "cell_type": "code",
   "execution_count": 7,
   "id": "5be8a8b6",
   "metadata": {
    "execution": {
     "iopub.execute_input": "2025-01-10T15:25:18.349371Z",
     "iopub.status.busy": "2025-01-10T15:25:18.349024Z",
     "iopub.status.idle": "2025-01-10T15:25:19.673774Z",
     "shell.execute_reply": "2025-01-10T15:25:19.672352Z"
    },
    "papermill": {
     "duration": 1.333688,
     "end_time": "2025-01-10T15:25:19.676284",
     "exception": false,
     "start_time": "2025-01-10T15:25:18.342596",
     "status": "completed"
    },
    "tags": []
   },
   "outputs": [],
   "source": [
    "pack_size = 100 \n",
    "packs = create_packs(df_ema, pack_size)"
   ]
  },
  {
   "cell_type": "code",
   "execution_count": 8,
   "id": "52059f82",
   "metadata": {
    "execution": {
     "iopub.execute_input": "2025-01-10T15:25:19.689056Z",
     "iopub.status.busy": "2025-01-10T15:25:19.688674Z",
     "iopub.status.idle": "2025-01-10T15:25:19.695313Z",
     "shell.execute_reply": "2025-01-10T15:25:19.694149Z"
    },
    "papermill": {
     "duration": 0.014951,
     "end_time": "2025-01-10T15:25:19.697152",
     "exception": false,
     "start_time": "2025-01-10T15:25:19.682201",
     "status": "completed"
    },
    "tags": []
   },
   "outputs": [
    {
     "data": {
      "text/plain": [
       "(numpy.ndarray, (500652, 100, 5))"
      ]
     },
     "execution_count": 8,
     "metadata": {},
     "output_type": "execute_result"
    }
   ],
   "source": [
    "type(packs), packs.shape"
   ]
  },
  {
   "cell_type": "markdown",
   "id": "a5b112c3",
   "metadata": {
    "papermill": {
     "duration": 0.004902,
     "end_time": "2025-01-10T15:25:19.707512",
     "exception": false,
     "start_time": "2025-01-10T15:25:19.702610",
     "status": "completed"
    },
    "tags": []
   },
   "source": [
    "#Normalization"
   ]
  },
  {
   "cell_type": "code",
   "execution_count": 9,
   "id": "426239df",
   "metadata": {
    "execution": {
     "iopub.execute_input": "2025-01-10T15:25:19.719206Z",
     "iopub.status.busy": "2025-01-10T15:25:19.718801Z",
     "iopub.status.idle": "2025-01-10T15:25:19.723919Z",
     "shell.execute_reply": "2025-01-10T15:25:19.722703Z"
    },
    "papermill": {
     "duration": 0.013108,
     "end_time": "2025-01-10T15:25:19.725806",
     "exception": false,
     "start_time": "2025-01-10T15:25:19.712698",
     "status": "completed"
    },
    "tags": []
   },
   "outputs": [],
   "source": [
    "def normalize_packs(packs):\n",
    "\n",
    "    scaler = MinMaxScaler()\n",
    "    \n",
    "    num_packs, pack_size, num_features = packs.shape\n",
    "    reshaped_packs = packs.reshape(-1, num_features)\n",
    "    \n",
    "    normalized_data = scaler.fit_transform(reshaped_packs)\n",
    "    \n",
    "    normalized_packs = normalized_data.reshape(num_packs, pack_size, num_features)\n",
    "    \n",
    "    return normalized_packs\n"
   ]
  },
  {
   "cell_type": "code",
   "execution_count": 10,
   "id": "73df07fb",
   "metadata": {
    "execution": {
     "iopub.execute_input": "2025-01-10T15:25:19.738161Z",
     "iopub.status.busy": "2025-01-10T15:25:19.737829Z",
     "iopub.status.idle": "2025-01-10T15:25:26.742621Z",
     "shell.execute_reply": "2025-01-10T15:25:26.741380Z"
    },
    "papermill": {
     "duration": 7.013068,
     "end_time": "2025-01-10T15:25:26.744307",
     "exception": false,
     "start_time": "2025-01-10T15:25:19.731239",
     "status": "completed"
    },
    "tags": []
   },
   "outputs": [
    {
     "name": "stdout",
     "output_type": "stream",
     "text": [
      "Shape of normalized packs: (500652, 100, 5)\n"
     ]
    }
   ],
   "source": [
    "normalized_packs = normalize_packs(packs)\n",
    "\n",
    "print(\"Shape of normalized packs:\", normalized_packs.shape)"
   ]
  },
  {
   "cell_type": "code",
   "execution_count": 11,
   "id": "cf660e45",
   "metadata": {
    "execution": {
     "iopub.execute_input": "2025-01-10T15:25:26.756296Z",
     "iopub.status.busy": "2025-01-10T15:25:26.755961Z",
     "iopub.status.idle": "2025-01-10T15:25:28.557102Z",
     "shell.execute_reply": "2025-01-10T15:25:28.555923Z"
    },
    "papermill": {
     "duration": 1.809674,
     "end_time": "2025-01-10T15:25:28.559441",
     "exception": false,
     "start_time": "2025-01-10T15:25:26.749767",
     "status": "completed"
    },
    "tags": []
   },
   "outputs": [],
   "source": [
    "train_size = 0.7\n",
    "val_size = 0.1\n",
    "test_size = 0.2\n",
    "\n",
    "packs_train, packs_temp, norm_packs_train, norm_packs_temp = train_test_split(\n",
    "    packs, normalized_packs, test_size=(val_size + test_size), random_state=42)"
   ]
  },
  {
   "cell_type": "code",
   "execution_count": 12,
   "id": "f19aaddb",
   "metadata": {
    "execution": {
     "iopub.execute_input": "2025-01-10T15:25:28.572233Z",
     "iopub.status.busy": "2025-01-10T15:25:28.571869Z",
     "iopub.status.idle": "2025-01-10T15:25:29.109164Z",
     "shell.execute_reply": "2025-01-10T15:25:29.108002Z"
    },
    "papermill": {
     "duration": 0.546236,
     "end_time": "2025-01-10T15:25:29.111115",
     "exception": false,
     "start_time": "2025-01-10T15:25:28.564879",
     "status": "completed"
    },
    "tags": []
   },
   "outputs": [],
   "source": [
    "val_ratio = val_size / (val_size + test_size)  # Adjust ratio for temp split\n",
    "packs_val, packs_test, norm_packs_val, norm_packs_test = train_test_split(\n",
    "    packs_temp, norm_packs_temp, test_size=(1 - val_ratio), random_state=42\n",
    ")"
   ]
  },
  {
   "cell_type": "code",
   "execution_count": 13,
   "id": "1959fdde",
   "metadata": {
    "execution": {
     "iopub.execute_input": "2025-01-10T15:25:29.123679Z",
     "iopub.status.busy": "2025-01-10T15:25:29.123298Z",
     "iopub.status.idle": "2025-01-10T15:25:29.130910Z",
     "shell.execute_reply": "2025-01-10T15:25:29.129938Z"
    },
    "papermill": {
     "duration": 0.015684,
     "end_time": "2025-01-10T15:25:29.132767",
     "exception": false,
     "start_time": "2025-01-10T15:25:29.117083",
     "status": "completed"
    },
    "tags": []
   },
   "outputs": [
    {
     "name": "stdout",
     "output_type": "stream",
     "text": [
      "Packs Train size: 350456\n",
      "Packs Validation size: 50065\n",
      "Packs Test size: 100131\n",
      "-----------\n",
      "Normalized Train size: 350456\n",
      "Normalized Validation size: 50065\n",
      "Normalized Test size: 100131\n"
     ]
    }
   ],
   "source": [
    "print(\"Packs Train size:\", len(packs_train))\n",
    "print(\"Packs Validation size:\", len(packs_val))\n",
    "print(\"Packs Test size:\", len(packs_test))\n",
    "print('-----------')\n",
    "print(\"Normalized Train size:\", len(norm_packs_train))\n",
    "print(\"Normalized Validation size:\", len(norm_packs_val))\n",
    "print(\"Normalized Test size:\", len(norm_packs_test))"
   ]
  },
  {
   "cell_type": "code",
   "execution_count": 14,
   "id": "564c9978",
   "metadata": {
    "execution": {
     "iopub.execute_input": "2025-01-10T15:25:29.144714Z",
     "iopub.status.busy": "2025-01-10T15:25:29.144332Z",
     "iopub.status.idle": "2025-01-10T15:25:29.148953Z",
     "shell.execute_reply": "2025-01-10T15:25:29.147983Z"
    },
    "papermill": {
     "duration": 0.01247,
     "end_time": "2025-01-10T15:25:29.150705",
     "exception": false,
     "start_time": "2025-01-10T15:25:29.138235",
     "status": "completed"
    },
    "tags": []
   },
   "outputs": [],
   "source": [
    "def get_state(packs, index):\n",
    "\n",
    "    state = packs[index]\n",
    "    next_state = packs[index + 1] if index + 1 < len(packs) else None\n",
    "    return state, next_state\n"
   ]
  },
  {
   "cell_type": "code",
   "execution_count": 15,
   "id": "c3beb1e8",
   "metadata": {
    "execution": {
     "iopub.execute_input": "2025-01-10T15:25:29.164863Z",
     "iopub.status.busy": "2025-01-10T15:25:29.164465Z",
     "iopub.status.idle": "2025-01-10T15:25:29.169992Z",
     "shell.execute_reply": "2025-01-10T15:25:29.168804Z"
    },
    "papermill": {
     "duration": 0.01522,
     "end_time": "2025-01-10T15:25:29.171886",
     "exception": false,
     "start_time": "2025-01-10T15:25:29.156666",
     "status": "completed"
    },
    "tags": []
   },
   "outputs": [],
   "source": [
    "def select_action(q_values, epsilon):\n",
    "\n",
    "    if np.random.rand() < epsilon:\n",
    "        action = np.random.choice([0, 1, 2])\n",
    "    else:\n",
    "        action = np.argmax(q_values)\n",
    "    return action"
   ]
  },
  {
   "cell_type": "code",
   "execution_count": 16,
   "id": "e7f605fc",
   "metadata": {
    "execution": {
     "iopub.execute_input": "2025-01-10T15:25:29.184700Z",
     "iopub.status.busy": "2025-01-10T15:25:29.184300Z",
     "iopub.status.idle": "2025-01-10T15:25:29.190617Z",
     "shell.execute_reply": "2025-01-10T15:25:29.189565Z"
    },
    "papermill": {
     "duration": 0.014955,
     "end_time": "2025-01-10T15:25:29.192277",
     "exception": false,
     "start_time": "2025-01-10T15:25:29.177322",
     "status": "completed"
    },
    "tags": []
   },
   "outputs": [],
   "source": [
    "def calculate_reward(action, open_price, stop_loss, target, target_multiplier, close_price, low, high, max_hold, current_hold):\n",
    "\n",
    "    if action == 'buy':\n",
    "        if low <= stop_loss: \n",
    "            return -1.0 \n",
    "        elif high >= target:\n",
    "            return target_multiplier\n",
    "\n",
    "    elif action == 'sell':\n",
    "        if high >= stop_loss: \n",
    "            return -1.0\n",
    "        elif low <= target: \n",
    "            return target_multiplier\n",
    "\n",
    "    elif current_hold >= max_hold:\n",
    "        return (close_price - open_price) / open_price - 0.1 \n",
    "\n",
    "    elif action == 'hold':\n",
    "        return -0.05\n",
    "\n",
    "    # Default: No action has triggered any event yet\n",
    "    return 0.0"
   ]
  },
  {
   "cell_type": "code",
   "execution_count": null,
   "id": "3017878b",
   "metadata": {
    "papermill": {
     "duration": 0.005684,
     "end_time": "2025-01-10T15:25:29.203893",
     "exception": false,
     "start_time": "2025-01-10T15:25:29.198209",
     "status": "completed"
    },
    "tags": []
   },
   "outputs": [],
   "source": []
  }
 ],
 "metadata": {
  "colab": {
   "provenance": []
  },
  "kaggle": {
   "accelerator": "none",
   "dataSources": [],
   "dockerImageVersionId": 30822,
   "isGpuEnabled": false,
   "isInternetEnabled": true,
   "language": "python",
   "sourceType": "notebook"
  },
  "kernelspec": {
   "display_name": "Python 3",
   "language": "python",
   "name": "python3"
  },
  "language_info": {
   "codemirror_mode": {
    "name": "ipython",
    "version": 3
   },
   "file_extension": ".py",
   "mimetype": "text/x-python",
   "name": "python",
   "nbconvert_exporter": "python",
   "pygments_lexer": "ipython3",
   "version": "3.10.12"
  },
  "papermill": {
   "default_parameters": {},
   "duration": 22.125586,
   "end_time": "2025-01-10T15:25:29.930835",
   "environment_variables": {},
   "exception": null,
   "input_path": "__notebook__.ipynb",
   "output_path": "__notebook__.ipynb",
   "parameters": {},
   "start_time": "2025-01-10T15:25:07.805249",
   "version": "2.6.0"
  }
 },
 "nbformat": 4,
 "nbformat_minor": 5
}
