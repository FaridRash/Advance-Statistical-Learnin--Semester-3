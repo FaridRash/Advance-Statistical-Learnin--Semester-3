{
 "cells": [
  {
   "cell_type": "code",
   "execution_count": 1,
   "id": "aa65bc27",
   "metadata": {
    "execution": {
     "iopub.execute_input": "2025-01-09T01:00:17.241240Z",
     "iopub.status.busy": "2025-01-09T01:00:17.240849Z",
     "iopub.status.idle": "2025-01-09T01:00:21.363723Z",
     "shell.execute_reply": "2025-01-09T01:00:21.362452Z"
    },
    "id": "g_n67soMKYth",
    "outputId": "be56ee3c-7794-49a8-b564-ef3487c6cf82",
    "papermill": {
     "duration": 4.131062,
     "end_time": "2025-01-09T01:00:21.366617",
     "exception": false,
     "start_time": "2025-01-09T01:00:17.235555",
     "status": "completed"
    },
    "tags": []
   },
   "outputs": [
    {
     "name": "stdout",
     "output_type": "stream",
     "text": [
      "Cloning into 'Advance-Statistical-Learnin--Semester-3'...\r\n",
      "remote: Enumerating objects: 24, done.\u001b[K\r\n",
      "remote: Counting objects: 100% (24/24), done.\u001b[K\r\n",
      "remote: Compressing objects: 100% (18/18), done.\u001b[K\r\n",
      "remote: Total 24 (delta 2), reused 11 (delta 0), pack-reused 0 (from 0)\u001b[K\r\n",
      "Receiving objects: 100% (24/24), 33.00 MiB | 15.73 MiB/s, done.\r\n",
      "Resolving deltas: 100% (2/2), done.\r\n"
     ]
    }
   ],
   "source": [
    "!git clone https://github.com/FaridRash/Advance-Statistical-Learnin--Semester-3"
   ]
  },
  {
   "cell_type": "code",
   "execution_count": 2,
   "id": "075f7df1",
   "metadata": {
    "_cell_guid": "b1076dfc-b9ad-4769-8c92-a6c4dae69d19",
    "_uuid": "8f2839f25d086af736a60e9eeb907d3b93b6e0e5",
    "execution": {
     "iopub.execute_input": "2025-01-09T01:00:21.377260Z",
     "iopub.status.busy": "2025-01-09T01:00:21.376804Z",
     "iopub.status.idle": "2025-01-09T01:00:23.793571Z",
     "shell.execute_reply": "2025-01-09T01:00:23.792259Z"
    },
    "id": "1aab1c42",
    "papermill": {
     "duration": 2.42419,
     "end_time": "2025-01-09T01:00:23.795672",
     "exception": false,
     "start_time": "2025-01-09T01:00:21.371482",
     "status": "completed"
    },
    "tags": []
   },
   "outputs": [],
   "source": [
    "import numpy as np\n",
    "import pandas as pd\n",
    "from sklearn.preprocessing import MinMaxScaler\n"
   ]
  },
  {
   "cell_type": "code",
   "execution_count": 3,
   "id": "b2870821",
   "metadata": {
    "execution": {
     "iopub.execute_input": "2025-01-09T01:00:23.805749Z",
     "iopub.status.busy": "2025-01-09T01:00:23.805184Z",
     "iopub.status.idle": "2025-01-09T01:00:24.484202Z",
     "shell.execute_reply": "2025-01-09T01:00:24.483022Z"
    },
    "id": "8d85ec77",
    "papermill": {
     "duration": 0.686115,
     "end_time": "2025-01-09T01:00:24.486241",
     "exception": false,
     "start_time": "2025-01-09T01:00:23.800126",
     "status": "completed"
    },
    "tags": []
   },
   "outputs": [],
   "source": [
    "data_path = \"/kaggle/working/Advance-Statistical-Learnin--Semester-3/Dataset/EURUSD-2000-2020-15m.csv\"\n",
    "df = pd.read_csv(data_path)"
   ]
  },
  {
   "cell_type": "code",
   "execution_count": 4,
   "id": "637af535",
   "metadata": {
    "execution": {
     "iopub.execute_input": "2025-01-09T01:00:24.495854Z",
     "iopub.status.busy": "2025-01-09T01:00:24.495477Z",
     "iopub.status.idle": "2025-01-09T01:00:24.528034Z",
     "shell.execute_reply": "2025-01-09T01:00:24.526667Z"
    },
    "id": "JMBWOgcKKvoc",
    "papermill": {
     "duration": 0.039783,
     "end_time": "2025-01-09T01:00:24.530204",
     "exception": false,
     "start_time": "2025-01-09T01:00:24.490421",
     "status": "completed"
    },
    "tags": []
   },
   "outputs": [],
   "source": [
    "\n",
    "def EMA(df, base, target, period, alpha=False):\n",
    "    \"\"\"\n",
    "    Function to compute Exponential Moving Average (EMA)\n",
    "    \"\"\"\n",
    "    con = pd.concat([df[:period][base].rolling(window=period).mean(), df[period:][base]])\n",
    "    if (alpha == False):\n",
    "        df[target] = con.ewm(span=period, adjust=False).mean()\n",
    "    else:\n",
    "        df[target] = con.ewm(alpha=alpha, adjust=False).mean()\n",
    "    return df\n",
    "\n",
    "df_ema = EMA(df, 'CLOSE', 'EMA_20', 20)"
   ]
  },
  {
   "cell_type": "code",
   "execution_count": 5,
   "id": "bb3fad5e",
   "metadata": {
    "execution": {
     "iopub.execute_input": "2025-01-09T01:00:24.539896Z",
     "iopub.status.busy": "2025-01-09T01:00:24.539530Z",
     "iopub.status.idle": "2025-01-09T01:00:24.560319Z",
     "shell.execute_reply": "2025-01-09T01:00:24.559081Z"
    },
    "id": "3Vl1-9aRMdKj",
    "outputId": "6ebdbb97-8e6b-4fb3-80ca-cc0dce31d92d",
    "papermill": {
     "duration": 0.0279,
     "end_time": "2025-01-09T01:00:24.562335",
     "exception": false,
     "start_time": "2025-01-09T01:00:24.534435",
     "status": "completed"
    },
    "tags": []
   },
   "outputs": [
    {
     "data": {
      "text/html": [
       "<div>\n",
       "<style scoped>\n",
       "    .dataframe tbody tr th:only-of-type {\n",
       "        vertical-align: middle;\n",
       "    }\n",
       "\n",
       "    .dataframe tbody tr th {\n",
       "        vertical-align: top;\n",
       "    }\n",
       "\n",
       "    .dataframe thead th {\n",
       "        text-align: right;\n",
       "    }\n",
       "</style>\n",
       "<table border=\"1\" class=\"dataframe\">\n",
       "  <thead>\n",
       "    <tr style=\"text-align: right;\">\n",
       "      <th></th>\n",
       "      <th>DATE_TIME</th>\n",
       "      <th>HIGH</th>\n",
       "      <th>LOW</th>\n",
       "      <th>OPEN</th>\n",
       "      <th>CLOSE</th>\n",
       "      <th>EMA_20</th>\n",
       "    </tr>\n",
       "  </thead>\n",
       "  <tbody>\n",
       "    <tr>\n",
       "      <th>0</th>\n",
       "      <td>2000.01.03 00:00:00</td>\n",
       "      <td>1.0080</td>\n",
       "      <td>1.0073</td>\n",
       "      <td>1.0073</td>\n",
       "      <td>1.0077</td>\n",
       "      <td>NaN</td>\n",
       "    </tr>\n",
       "    <tr>\n",
       "      <th>1</th>\n",
       "      <td>2000.01.03 00:15:00</td>\n",
       "      <td>1.0087</td>\n",
       "      <td>1.0076</td>\n",
       "      <td>1.0078</td>\n",
       "      <td>1.0086</td>\n",
       "      <td>NaN</td>\n",
       "    </tr>\n",
       "    <tr>\n",
       "      <th>2</th>\n",
       "      <td>2000.01.03 00:30:00</td>\n",
       "      <td>1.0089</td>\n",
       "      <td>1.0079</td>\n",
       "      <td>1.0087</td>\n",
       "      <td>1.0079</td>\n",
       "      <td>NaN</td>\n",
       "    </tr>\n",
       "    <tr>\n",
       "      <th>3</th>\n",
       "      <td>2000.01.03 00:45:00</td>\n",
       "      <td>1.0132</td>\n",
       "      <td>1.0078</td>\n",
       "      <td>1.0078</td>\n",
       "      <td>1.0128</td>\n",
       "      <td>NaN</td>\n",
       "    </tr>\n",
       "    <tr>\n",
       "      <th>4</th>\n",
       "      <td>2000.01.03 01:00:00</td>\n",
       "      <td>1.0133</td>\n",
       "      <td>1.0120</td>\n",
       "      <td>1.0129</td>\n",
       "      <td>1.0122</td>\n",
       "      <td>NaN</td>\n",
       "    </tr>\n",
       "  </tbody>\n",
       "</table>\n",
       "</div>"
      ],
      "text/plain": [
       "             DATE_TIME    HIGH     LOW    OPEN   CLOSE  EMA_20\n",
       "0  2000.01.03 00:00:00  1.0080  1.0073  1.0073  1.0077     NaN\n",
       "1  2000.01.03 00:15:00  1.0087  1.0076  1.0078  1.0086     NaN\n",
       "2  2000.01.03 00:30:00  1.0089  1.0079  1.0087  1.0079     NaN\n",
       "3  2000.01.03 00:45:00  1.0132  1.0078  1.0078  1.0128     NaN\n",
       "4  2000.01.03 01:00:00  1.0133  1.0120  1.0129  1.0122     NaN"
      ]
     },
     "execution_count": 5,
     "metadata": {},
     "output_type": "execute_result"
    }
   ],
   "source": [
    "df_ema.head()"
   ]
  },
  {
   "cell_type": "markdown",
   "id": "c3012e5e",
   "metadata": {
    "papermill": {
     "duration": 0.003931,
     "end_time": "2025-01-09T01:00:24.571122",
     "exception": false,
     "start_time": "2025-01-09T01:00:24.567191",
     "status": "completed"
    },
    "tags": []
   },
   "source": [
    "#Packing"
   ]
  },
  {
   "cell_type": "code",
   "execution_count": 6,
   "id": "30d7c6a8",
   "metadata": {
    "execution": {
     "iopub.execute_input": "2025-01-09T01:00:24.581148Z",
     "iopub.status.busy": "2025-01-09T01:00:24.580725Z",
     "iopub.status.idle": "2025-01-09T01:00:24.586056Z",
     "shell.execute_reply": "2025-01-09T01:00:24.584927Z"
    },
    "id": "xiqFtiQxMebF",
    "papermill": {
     "duration": 0.012667,
     "end_time": "2025-01-09T01:00:24.588118",
     "exception": false,
     "start_time": "2025-01-09T01:00:24.575451",
     "status": "completed"
    },
    "tags": []
   },
   "outputs": [],
   "source": [
    "def create_packs(df, pack_size):\n",
    "\n",
    "    numerical_data = df[['HIGH', 'LOW', 'OPEN', 'CLOSE', 'EMA_20']].values\n",
    "    \n",
    "    num_packs = len(numerical_data) - pack_size + 1\n",
    "    \n",
    "    packs = np.array([numerical_data[i:i + pack_size] for i in range(num_packs)])\n",
    "    \n",
    "    return packs"
   ]
  },
  {
   "cell_type": "code",
   "execution_count": 7,
   "id": "1d25d842",
   "metadata": {
    "execution": {
     "iopub.execute_input": "2025-01-09T01:00:24.598143Z",
     "iopub.status.busy": "2025-01-09T01:00:24.597719Z",
     "iopub.status.idle": "2025-01-09T01:00:25.917334Z",
     "shell.execute_reply": "2025-01-09T01:00:25.916082Z"
    },
    "papermill": {
     "duration": 1.327104,
     "end_time": "2025-01-09T01:00:25.919602",
     "exception": false,
     "start_time": "2025-01-09T01:00:24.592498",
     "status": "completed"
    },
    "tags": []
   },
   "outputs": [],
   "source": [
    "pack_size = 100 \n",
    "packs = create_packs(df_ema, pack_size)"
   ]
  },
  {
   "cell_type": "code",
   "execution_count": 8,
   "id": "2967a2ee",
   "metadata": {
    "execution": {
     "iopub.execute_input": "2025-01-09T01:00:25.930499Z",
     "iopub.status.busy": "2025-01-09T01:00:25.930100Z",
     "iopub.status.idle": "2025-01-09T01:00:25.936798Z",
     "shell.execute_reply": "2025-01-09T01:00:25.935617Z"
    },
    "papermill": {
     "duration": 0.014575,
     "end_time": "2025-01-09T01:00:25.938721",
     "exception": false,
     "start_time": "2025-01-09T01:00:25.924146",
     "status": "completed"
    },
    "tags": []
   },
   "outputs": [
    {
     "data": {
      "text/plain": [
       "(numpy.ndarray, (500652, 100, 5))"
      ]
     },
     "execution_count": 8,
     "metadata": {},
     "output_type": "execute_result"
    }
   ],
   "source": [
    "type(packs), packs.shape"
   ]
  },
  {
   "cell_type": "markdown",
   "id": "e9da3358",
   "metadata": {
    "papermill": {
     "duration": 0.004112,
     "end_time": "2025-01-09T01:00:25.947676",
     "exception": false,
     "start_time": "2025-01-09T01:00:25.943564",
     "status": "completed"
    },
    "tags": []
   },
   "source": [
    "#Normalization"
   ]
  },
  {
   "cell_type": "code",
   "execution_count": 9,
   "id": "0687a900",
   "metadata": {
    "execution": {
     "iopub.execute_input": "2025-01-09T01:00:25.957883Z",
     "iopub.status.busy": "2025-01-09T01:00:25.957480Z",
     "iopub.status.idle": "2025-01-09T01:00:25.963206Z",
     "shell.execute_reply": "2025-01-09T01:00:25.962036Z"
    },
    "papermill": {
     "duration": 0.013176,
     "end_time": "2025-01-09T01:00:25.965220",
     "exception": false,
     "start_time": "2025-01-09T01:00:25.952044",
     "status": "completed"
    },
    "tags": []
   },
   "outputs": [],
   "source": [
    "def normalize_packs(packs):\n",
    "\n",
    "    # Initialize MinMaxScaler\n",
    "    scaler = MinMaxScaler()\n",
    "    \n",
    "    # Reshape the data to 2D for fitting the scaler (num_packs * pack_size, num_features)\n",
    "    num_packs, pack_size, num_features = packs.shape\n",
    "    reshaped_packs = packs.reshape(-1, num_features)\n",
    "    \n",
    "    # Fit and transform the scaler on the reshaped data\n",
    "    normalized_data = scaler.fit_transform(reshaped_packs)\n",
    "    \n",
    "    # Reshape back to the original pack structure\n",
    "    normalized_packs = normalized_data.reshape(num_packs, pack_size, num_features)\n",
    "    \n",
    "    return normalized_packs\n"
   ]
  },
  {
   "cell_type": "code",
   "execution_count": 10,
   "id": "d3017419",
   "metadata": {
    "execution": {
     "iopub.execute_input": "2025-01-09T01:00:25.975892Z",
     "iopub.status.busy": "2025-01-09T01:00:25.975487Z",
     "iopub.status.idle": "2025-01-09T01:00:32.996696Z",
     "shell.execute_reply": "2025-01-09T01:00:32.995308Z"
    },
    "papermill": {
     "duration": 7.028976,
     "end_time": "2025-01-09T01:00:32.998728",
     "exception": false,
     "start_time": "2025-01-09T01:00:25.969752",
     "status": "completed"
    },
    "tags": []
   },
   "outputs": [
    {
     "name": "stdout",
     "output_type": "stream",
     "text": [
      "Shape of normalized packs: (500652, 100, 5)\n"
     ]
    }
   ],
   "source": [
    "# Example usage\n",
    "normalized_packs = normalize_packs(packs)\n",
    "\n",
    "print(\"Shape of normalized packs:\", normalized_packs.shape)"
   ]
  },
  {
   "cell_type": "code",
   "execution_count": null,
   "id": "f71055ca",
   "metadata": {
    "papermill": {
     "duration": 0.004514,
     "end_time": "2025-01-09T01:00:33.008112",
     "exception": false,
     "start_time": "2025-01-09T01:00:33.003598",
     "status": "completed"
    },
    "tags": []
   },
   "outputs": [],
   "source": []
  }
 ],
 "metadata": {
  "colab": {
   "provenance": []
  },
  "kaggle": {
   "accelerator": "none",
   "dataSources": [],
   "dockerImageVersionId": 30822,
   "isGpuEnabled": false,
   "isInternetEnabled": true,
   "language": "python",
   "sourceType": "notebook"
  },
  "kernelspec": {
   "display_name": "Python 3",
   "language": "python",
   "name": "python3"
  },
  "language_info": {
   "codemirror_mode": {
    "name": "ipython",
    "version": 3
   },
   "file_extension": ".py",
   "mimetype": "text/x-python",
   "name": "python",
   "nbconvert_exporter": "python",
   "pygments_lexer": "ipython3",
   "version": "3.10.12"
  },
  "papermill": {
   "default_parameters": {},
   "duration": 19.636266,
   "end_time": "2025-01-09T01:00:33.733189",
   "environment_variables": {},
   "exception": null,
   "input_path": "__notebook__.ipynb",
   "output_path": "__notebook__.ipynb",
   "parameters": {},
   "start_time": "2025-01-09T01:00:14.096923",
   "version": "2.6.0"
  }
 },
 "nbformat": 4,
 "nbformat_minor": 5
}
